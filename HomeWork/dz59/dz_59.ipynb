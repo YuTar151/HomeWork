{
 "cells": [
  {
   "cell_type": "markdown",
   "source": [
    "### Реалізуйте функцію для зчитування зображення з файлу та його відображення за допомогою бібліотеки OpenCV."
   ],
   "metadata": {
    "collapsed": false
   }
  },
  {
   "cell_type": "code",
   "execution_count": 1,
   "outputs": [],
   "source": [
    "import cv2\n",
    "import numpy as np"
   ],
   "metadata": {
    "collapsed": false
   }
  },
  {
   "cell_type": "code",
   "execution_count": 2,
   "outputs": [],
   "source": [
    "def open_image(img_path):\n",
    "    img = cv2.imread(img_path)\n",
    "    cv2.imshow(\"image\", img)\n",
    "    cv2.waitKey(0)\n",
    "    cv2.destroyAllWindows()\n",
    "\n",
    "open_image(\"28894474.jpg\")"
   ],
   "metadata": {
    "collapsed": false
   }
  },
  {
   "cell_type": "markdown",
   "source": [
    "### Реалізуйте фільтр Собеля для зображення та відображіть його результат."
   ],
   "metadata": {
    "collapsed": false
   }
  },
  {
   "cell_type": "code",
   "execution_count": 3,
   "outputs": [],
   "source": [
    "image = cv2.imread('28894474.jpg', cv2.IMREAD_GRAYSCALE)\n",
    "\n",
    "sobel_x = cv2.Sobel(image, cv2.CV_64F, 1, 0, ksize=5)\n",
    "sobel_y = cv2.Sobel(image, cv2.CV_64F, 0, 1, ksize=5)\n",
    "\n",
    "sobel_x = cv2.convertScaleAbs(sobel_x)\n",
    "sobel_y = cv2.convertScaleAbs(sobel_y)\n",
    "\n",
    "sobel_combined = cv2.addWeighted(sobel_x, 0.5, sobel_y, 0.5, 0)\n",
    "\n",
    "cv2.imshow('Original Image', image)\n",
    "cv2.imshow('Sobel Filtered Image', sobel_combined)\n",
    "cv2.waitKey(0)\n",
    "cv2.destroyAllWindows()\n"
   ],
   "metadata": {
    "collapsed": false
   }
  },
  {
   "cell_type": "markdown",
   "source": [
    "### Реалізуйте медіанний фільтр для зображення та відображіть його результат."
   ],
   "metadata": {
    "collapsed": false
   }
  },
  {
   "cell_type": "code",
   "execution_count": 4,
   "outputs": [],
   "source": [
    "image = cv2.imread('28894474.jpg', cv2.IMREAD_GRAYSCALE)\n",
    "\n",
    "median_filtered = cv2.medianBlur(image, 5)\n",
    "\n",
    "cv2.imshow('Original Image', image)\n",
    "cv2.imshow('Median Filtered Image', median_filtered)\n",
    "cv2.waitKey(0)\n",
    "cv2.destroyAllWindows()\n"
   ],
   "metadata": {
    "collapsed": false
   }
  },
  {
   "cell_type": "markdown",
   "source": [
    "### Порівняйте результати фільтрів Собеля та медіанного фільтру та проілюструйте їх відмінності на зображенні."
   ],
   "metadata": {
    "collapsed": false
   }
  },
  {
   "cell_type": "code",
   "execution_count": 5,
   "outputs": [],
   "source": [
    "# Відображення оригінального зображення, результату застосування фільтра Собеля та медіанного фільтру\n",
    "cv2.imshow('Original Image', image)\n",
    "cv2.imshow('Sobel X', sobel_x)\n",
    "cv2.imshow('Sobel Y', sobel_y)\n",
    "cv2.imshow('Median Filtered Image', median_filtered)\n",
    "cv2.waitKey(0)\n",
    "cv2.destroyAllWindows()"
   ],
   "metadata": {
    "collapsed": false
   }
  },
  {
   "cell_type": "markdown",
   "source": [
    "Фільтр Собеля використовується для виявлення різниці у яскравості між пікселями на зображенні, зокрема для виявлення границь об'єктів на зображенні. Медіанний фільтр, з іншого боку, використовується для зменшення шуму на зображенні шляхом заміни значення кожного пікселя на медіанне значення його сусідів.\n",
    "\n",
    "Вплив на деталі зображення: Медіанний фільтр має тенденцію менше впливати на деталі зображення, оскільки він замінює значення пікселів на медіанне значення сусідів, що забезпечує збереження кромок та деталей на зображенні. Фільтр Собеля, з іншого боку, може створювати високі контрастні переходи на границях об'єктів, що може вплинути на деталі зображення."
   ],
   "metadata": {
    "collapsed": false
   }
  },
  {
   "cell_type": "code",
   "execution_count": null,
   "outputs": [],
   "source": [],
   "metadata": {
    "collapsed": false
   }
  }
 ],
 "metadata": {
  "kernelspec": {
   "display_name": "Python 3",
   "language": "python",
   "name": "python3"
  },
  "language_info": {
   "codemirror_mode": {
    "name": "ipython",
    "version": 2
   },
   "file_extension": ".py",
   "mimetype": "text/x-python",
   "name": "python",
   "nbconvert_exporter": "python",
   "pygments_lexer": "ipython2",
   "version": "2.7.6"
  }
 },
 "nbformat": 4,
 "nbformat_minor": 0
}

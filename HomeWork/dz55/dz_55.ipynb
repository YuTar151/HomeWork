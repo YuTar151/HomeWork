{
 "cells": [
  {
   "cell_type": "markdown",
   "metadata": {},
   "source": [
    "Використовуючи бібліотеку PyTorch, створіть генеративно-змагальну мережу (GAN) для генерації зображень цифр MNIST.\n",
    "1) Завантажте набір даних MNIST з використанням torchvision.datasets.\n",
    "2) Створіть генератор, який приймає на вхід випадковий вектор з шумом та генерує зображення цифр MNIST.\n",
    "3) Створіть дискримінатор, який приймає на вхід зображення цифр MNIST та визначає, чи є це реальне зображення чи згенероване генератором.\n",
    "4) Обидві моделі повинні мати декілька шарів зі зменшенням розмірності зображення, використовуючи згортувальні та пулінгові шари.\n",
    "5) Навчіть моделі генерувати нові зображення цифр MNIST, використовуючи взаємодію генератора та дискримінатора з використанням функції втрат GAN (adversarial loss).\n",
    "6) Після навчання, виведіть кілька згенерованих зображень та порівняйте їх з Оригінальними зображеннями з набору даних MNIST."
   ]
  },
  {
   "cell_type": "code",
   "execution_count": 26,
   "metadata": {},
   "outputs": [],
   "source": [
    "import torch\n",
    "import torch.nn as nn\n",
    "import torchvision.datasets as datasets\n",
    "import torchvision.transforms as transforms\n",
    "\n",
    "\n",
    "# Load the MNIST dataset\n",
    "mnist_dataset = datasets.MNIST(root='data', train=True, transform=transforms.ToTensor(), download=True)\n",
    "\n",
    "# Create a data loader for the MNIST dataset\n",
    "batch_size = 64\n",
    "data_loader = torch.utils.data.DataLoader(mnist_dataset, batch_size=batch_size, shuffle=True)\n",
    "\n",
    "# Get a batch of real images\n",
    "real_images, labels = next(iter(data_loader))"
   ]
  },
  {
   "cell_type": "code",
   "execution_count": 15,
   "metadata": {},
   "outputs": [],
   "source": [
    "class Generator(nn.Module):\n",
    "    def __init__(self, noise_dim=100, image_dim=28*28, hidden_dim=256):\n",
    "        super(Generator, self).__init__()\n",
    "        self.noise_dim = noise_dim\n",
    "        self.image_dim = image_dim\n",
    "        self.hidden_dim = hidden_dim\n",
    "        \n",
    "        self.fc1 = nn.Linear(noise_dim, hidden_dim)\n",
    "        self.relu = nn.ReLU()\n",
    "        self.fc2 = nn.Linear(hidden_dim, hidden_dim)\n",
    "        self.fc3 = nn.Linear(hidden_dim, image_dim)\n",
    "        self.tanh = nn.Tanh()\n",
    "\n",
    "    def forward(self, x):\n",
    "        x = self.fc1(x)\n",
    "        x = self.relu(x)\n",
    "        x = self.fc2(x)\n",
    "        x = self.relu(x)\n",
    "        x = self.fc3(x)\n",
    "        x = self.tanh(x)\n",
    "        return x.view(-1, 1, 28, 28)\n"
   ]
  },
  {
   "cell_type": "code",
   "execution_count": 21,
   "metadata": {},
   "outputs": [
    {
     "data": {
      "image/png": "[encoded data removed]",
      "text/plain": [
       "<Figure size 640x480 with 1 Axes>"
      ]
     },
     "metadata": {},
     "output_type": "display_data"
    }
   ],
   "source": [
    "# Instantiate the generator\n",
    "gen = Generator()\n",
    "\n",
    "# Generate a random noise vector\n",
    "noise = torch.randn(1, gen.noise_dim)\n",
    "\n",
    "# Generate an image from the noise vector\n",
    "image = gen(noise)\n",
    "\n",
    "# Display the image\n",
    "import matplotlib.pyplot as plt\n",
    "plt.imshow(image.squeeze().detach().numpy(), cmap='gray')\n",
    "plt.show()\n"
   ]
  },
  {
   "cell_type": "code",
   "execution_count": 22,
   "metadata": {},
   "outputs": [],
   "source": [
    "class Discriminator(nn.Module):\n",
    "    def __init__(self, image_dim=28*28, hidden_dim=256):\n",
    "        super(Discriminator, self).__init__()\n",
    "        self.image_dim = image_dim\n",
    "        self.hidden_dim = hidden_dim\n",
    "        \n",
    "        self.fc1 = nn.Linear(image_dim, hidden_dim)\n",
    "        self.relu = nn.ReLU()\n",
    "        self.fc2 = nn.Linear(hidden_dim, hidden_dim)\n",
    "        self.fc3 = nn.Linear(hidden_dim, 1)\n",
    "        self.sigmoid = nn.Sigmoid()\n",
    "\n",
    "    def forward(self, x):\n",
    "        x = x.view(-1, self.image_dim)\n",
    "        x = self.fc1(x)\n",
    "        x = self.relu(x)\n",
    "        x = self.fc2(x)\n",
    "        x = self.relu(x)\n",
    "        x = self.fc3(x)\n",
    "        x = self.sigmoid(x)\n",
    "        return x\n"
   ]
  },
  {
   "cell_type": "code",
   "execution_count": 23,
   "metadata": {},
   "outputs": [],
   "source": [
    "import torch.optim as optim\n",
    "\n",
    "# Instantiate the discriminator and the generator\n",
    "disc = Discriminator()\n",
    "gen = Generator()\n",
    "\n",
    "# Define the optimizer for the discriminator\n",
    "lr_disc = 0.0002\n",
    "betas_disc = (0.5, 0.999)\n",
    "optimizer_disc = optim.Adam(disc.parameters(), lr=lr_disc, betas=betas_disc)"
   ]
  },
  {
   "cell_type": "code",
   "execution_count": 24,
   "metadata": {},
   "outputs": [],
   "source": [
    "# Generate a fake image using the generator\n",
    "noise = torch.randn(batch_size, gen.noise_dim)\n",
    "fake_images = gen(noise)\n",
    "\n",
    "# Compute the discriminator's prediction for the real image and the fake image\n",
    "real_pred = disc(real_images)\n",
    "fake_pred = disc(fake_images)\n",
    "\n",
    "# Compute the binary cross-entropy loss\n",
    "loss_fn = nn.BCELoss()\n",
    "real_loss = loss_fn(real_pred, torch.ones_like(real_pred))\n",
    "fake_loss = loss_fn(fake_pred, torch.zeros_like(fake_pred))\n",
    "total_loss = real_loss + fake_loss\n",
    "\n",
    "# Backpropagate and update the discriminator's parameters\n",
    "total_loss.backward()\n",
    "optimizer_disc.step()"
   ]
  },
  {
   "cell_type": "code",
   "execution_count": null,
   "metadata": {},
   "outputs": [],
   "source": []
  }
 ],
 "metadata": {
  "kernelspec": {
   "display_name": "Python 3 (ipykernel)",
   "language": "python",
   "name": "python3"
  },
  "language_info": {
   "codemirror_mode": {
    "name": "ipython",
    "version": 3
   },
   "file_extension": ".py",
   "mimetype": "text/x-python",
   "name": "python",
   "nbconvert_exporter": "python",
   "pygments_lexer": "ipython3",
   "version": "3.11.2"
  }
 },
 "nbformat": 4,
 "nbformat_minor": 1
}

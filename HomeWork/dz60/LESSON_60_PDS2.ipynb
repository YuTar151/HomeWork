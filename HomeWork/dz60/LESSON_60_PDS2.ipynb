{
 "cells": [
  {
   "cell_type": "code",
   "execution_count": 1,
   "id": "6d4611b5",
   "metadata": {},
   "outputs": [],
   "source": [
    "import cv2\n",
    "import numpy as np"
   ]
  },
  {
   "cell_type": "code",
   "execution_count": 2,
   "id": "4f9e1301",
   "metadata": {},
   "outputs": [],
   "source": [
    "img = cv2.imread('map.jpg')"
   ]
  },
  {
   "cell_type": "markdown",
   "id": "03173feb",
   "metadata": {},
   "source": [
    "# PREWITT"
   ]
  },
  {
   "cell_type": "code",
   "execution_count": 3,
   "id": "afd3e0f3",
   "metadata": {},
   "outputs": [],
   "source": [
    "# Convert image to grayscale\n",
    "gray = cv2.cvtColor(img, cv2.COLOR_BGR2GRAY)"
   ]
  },
  {
   "cell_type": "code",
   "execution_count": 5,
   "id": "87844e71",
   "metadata": {},
   "outputs": [],
   "source": [
    "kernel_x = np.array([[1, 0, -1], [1, 0, -1], [1, 0, -1]])\n",
    "kernel_y = np.array([[1, 1, 1], [0, 0, 0], [-1, -1, -1]])"
   ]
  },
  {
   "cell_type": "code",
   "execution_count": 6,
   "id": "e50980dd",
   "metadata": {},
   "outputs": [],
   "source": [
    "edges_x = cv2.filter2D(gray, -1, kernel_x)\n",
    "edges_y = cv2.filter2D(gray, -1, kernel_y)\n",
    "edges = edges_x + edges_y"
   ]
  },
  {
   "cell_type": "code",
   "execution_count": 7,
   "id": "88927699",
   "metadata": {},
   "outputs": [],
   "source": [
    "cv2.imshow('Original images', img)\n",
    "cv2.imshow('PREWITT', edges)\n",
    "cv2.waitKey(0)\n",
    "cv2.destroyAllWindows()"
   ]
  },
  {
   "cell_type": "markdown",
   "id": "262709dc",
   "metadata": {},
   "source": [
    "# SOBEL"
   ]
  },
  {
   "cell_type": "code",
   "execution_count": 8,
   "id": "e6e93fbe",
   "metadata": {},
   "outputs": [],
   "source": [
    "gray = cv2.cvtColor(img, cv2.COLOR_BGR2GRAY)"
   ]
  },
  {
   "cell_type": "code",
   "execution_count": 9,
   "id": "58f9a84b",
   "metadata": {},
   "outputs": [],
   "source": [
    "kernel_x = np.array([[-1, 0, 1], [-2, 0, 2], [-1, 0, 1]])\n",
    "kernel_y = np.array([[-1, -2, -1], [0, 0, 0], [1, 2, 1]])"
   ]
  },
  {
   "cell_type": "code",
   "execution_count": 10,
   "id": "3c1897fb",
   "metadata": {},
   "outputs": [],
   "source": [
    "sobel_x = cv2.filter2D(gray, -1, kernel_x)\n",
    "sobel_y = cv2.filter2D(gray, -1, kernel_y)\n",
    "sobel = edges_x + edges_y"
   ]
  },
  {
   "cell_type": "code",
   "execution_count": 12,
   "id": "0d7c6333",
   "metadata": {},
   "outputs": [],
   "source": [
    "cv2.imshow('Original images', img)\n",
    "cv2.imshow('SOBEL', sobel)\n",
    "cv2.waitKey(0)\n",
    "cv2.destroyAllWindows()"
   ]
  },
  {
   "cell_type": "markdown",
   "id": "7724276d",
   "metadata": {},
   "source": [
    "# CANNY"
   ]
  },
  {
   "cell_type": "code",
   "execution_count": 13,
   "id": "bcecfbe5",
   "metadata": {},
   "outputs": [],
   "source": [
    "# Convert image to grayscale\n",
    "gray = cv2.cvtColor(img, cv2.COLOR_BGR2GRAY)"
   ]
  },
  {
   "cell_type": "code",
   "execution_count": 14,
   "id": "35e5c5bf",
   "metadata": {},
   "outputs": [],
   "source": [
    "canny = cv2.Canny(gray, 50, 150)"
   ]
  },
  {
   "cell_type": "code",
   "execution_count": 15,
   "id": "c9569205",
   "metadata": {},
   "outputs": [],
   "source": [
    "cv2.imshow('Original images', img)\n",
    "cv2.imshow('CANNY', canny)\n",
    "cv2.waitKey(0)\n",
    "cv2.destroyAllWindows()"
   ]
  },
  {
   "cell_type": "markdown",
   "id": "9b1be1c1",
   "metadata": {},
   "source": [
    "___"
   ]
  },
  {
   "cell_type": "code",
   "execution_count": 16,
   "id": "a4212ae5",
   "metadata": {},
   "outputs": [],
   "source": [
    "cv2.imshow('Original images', img)\n",
    "cv2.imshow('PREWITT', edges)\n",
    "cv2.imshow('SOBEL', sobel)\n",
    "cv2.imshow('CANNY', canny)\n",
    "cv2.waitKey(0)\n",
    "cv2.destroyAllWindows()"
   ]
  },
  {
   "cell_type": "markdown",
   "id": "177db08e",
   "metadata": {},
   "source": [
    "# Відображення контурів"
   ]
  },
  {
   "cell_type": "code",
   "execution_count": 17,
   "id": "6b6c359b",
   "metadata": {},
   "outputs": [],
   "source": [
    "import sys\n",
    "import numpy as np\n",
    "import cv2"
   ]
  },
  {
   "cell_type": "code",
   "execution_count": 18,
   "id": "4ddeee23",
   "metadata": {},
   "outputs": [],
   "source": [
    "hsv_min = np.array((2, 28, 65), np.uint8)\n",
    "hsv_max = np.array((26, 238, 255), np.uint8)"
   ]
  },
  {
   "cell_type": "code",
   "execution_count": 19,
   "id": "b924ab24",
   "metadata": {},
   "outputs": [],
   "source": [
    "fn = 'contur.jpg'\n",
    "img = cv2.imread(fn)"
   ]
  },
  {
   "cell_type": "code",
   "execution_count": 20,
   "id": "8c9ef78a",
   "metadata": {},
   "outputs": [],
   "source": [
    "hsv = cv2.cvtColor( img, cv2.COLOR_BGR2HSV )\n",
    "thresh = cv2.inRange( hsv, hsv_min, hsv_max )\n",
    "contours, hierarchy = cv2.findContours( thresh.copy(), cv2.RETR_TREE, cv2.CHAIN_APPROX_SIMPLE)"
   ]
  },
  {
   "cell_type": "code",
   "execution_count": 21,
   "id": "56bf82ab",
   "metadata": {},
   "outputs": [],
   "source": [
    "cv2.drawContours( img, contours, -1, (255,0,0), 3, cv2.LINE_AA, hierarchy, 1 )\n",
    "cv2.imshow('contours', img)\n",
    "cv2.waitKey(0)\n",
    "cv2.destroyAllWindows()"
   ]
  },
  {
   "cell_type": "markdown",
   "id": "30aece1c",
   "metadata": {},
   "source": [
    "___"
   ]
  },
  {
   "cell_type": "code",
   "execution_count": 22,
   "id": "0bba49c1",
   "metadata": {},
   "outputs": [],
   "source": [
    "my_photo = cv2.imread('Filarmoniya.jpg')\n",
    "filterd_image  = cv2.medianBlur(my_photo,7)\n",
    "img_grey = cv2.cvtColor(filterd_image,cv2.COLOR_BGR2GRAY)"
   ]
  },
  {
   "cell_type": "code",
   "execution_count": 23,
   "id": "19ed6e45",
   "metadata": {},
   "outputs": [],
   "source": [
    "thresh = 100"
   ]
  },
  {
   "cell_type": "code",
   "execution_count": 24,
   "id": "93022a1c",
   "metadata": {},
   "outputs": [],
   "source": [
    "ret,thresh_img = cv2.threshold(img_grey, thresh, 255, cv2.THRESH_BINARY)"
   ]
  },
  {
   "cell_type": "code",
   "execution_count": 25,
   "id": "f4e0ce20",
   "metadata": {},
   "outputs": [],
   "source": [
    "contours, hierarchy = cv2.findContours(thresh_img, cv2.RETR_TREE, cv2.CHAIN_APPROX_SIMPLE)"
   ]
  },
  {
   "cell_type": "code",
   "execution_count": 26,
   "id": "c44208f8",
   "metadata": {},
   "outputs": [],
   "source": [
    "img_contours = np.uint8(np.zeros((my_photo.shape[0],my_photo.shape[1])))"
   ]
  },
  {
   "cell_type": "code",
   "execution_count": 27,
   "id": "37e25d66",
   "metadata": {},
   "outputs": [
    {
     "data": {
      "text/plain": [
       "array([[  0,   0,   0, ..., 255, 255, 255],\n",
       "       [  0,   0,   0, ...,   0,   0, 255],\n",
       "       [  0,   0,   0, ...,   0,   0, 255],\n",
       "       ...,\n",
       "       [255,   0,   0, ...,   0,   0, 255],\n",
       "       [255,   0,   0, ...,   0,   0, 255],\n",
       "       [255, 255, 255, ..., 255, 255, 255]], dtype=uint8)"
      ]
     },
     "execution_count": 27,
     "metadata": {},
     "output_type": "execute_result"
    }
   ],
   "source": [
    "cv2.drawContours(img_contours, contours, -1, (255,255,255), 1)"
   ]
  },
  {
   "cell_type": "code",
   "execution_count": 28,
   "id": "ac0a5059",
   "metadata": {},
   "outputs": [],
   "source": [
    "cv2.imshow('origin', my_photo) # выводим итоговое изображение в окно\n",
    "cv2.imshow('res', img_contours) # выводим итоговое изображение в окно\n",
    "\n",
    "cv2.waitKey(0)\n",
    "cv2.destroyAllWindows()"
   ]
  },
  {
   "cell_type": "markdown",
   "id": "e129c8e2",
   "metadata": {},
   "source": [
    "___"
   ]
  },
  {
   "cell_type": "code",
   "execution_count": 29,
   "id": "58ffc184",
   "metadata": {},
   "outputs": [
    {
     "data": {
      "text/plain": [
       "True"
      ]
     },
     "execution_count": 29,
     "metadata": {},
     "output_type": "execute_result"
    }
   ],
   "source": [
    "cap = cv2.VideoCapture(0)\n",
    "cap.set(3, 800)\n",
    "cap.set(4, 600)"
   ]
  },
  {
   "cell_type": "code",
   "execution_count": 30,
   "id": "84955e99",
   "metadata": {},
   "outputs": [],
   "source": [
    "faceCascade = cv2.CascadeClassifier(cv2.data.haarcascades + \"haarcascade_frontalface_default.xml\")"
   ]
  },
  {
   "cell_type": "code",
   "execution_count": 31,
   "id": "5199eaf6",
   "metadata": {},
   "outputs": [],
   "source": [
    "while True:\n",
    "    success, img = cap.read()\n",
    "    imgGray = cv2.cvtColor(img, cv2.COLOR_BGR2GRAY)\n",
    "\n",
    "    # Getting corners around the face\n",
    "    faces = faceCascade.detectMultiScale(imgGray, 1.3, 5)  # 1.3 = scale factor, 5 = minimum neighbor\n",
    "    # drawing bounding box around face\n",
    "    for (x, y, w, h) in faces:\n",
    "        img = cv2.rectangle(img, (x, y), (x + w, y + h), (0, 255, 0), 3)    \n",
    "\n",
    "    cv2.imshow('face_detect', img)\n",
    "    if cv2.waitKey(10) & 0xFF == ord('q'):\n",
    "        break\n",
    "cap.release()\n",
    "cv2.destroyWindow('face_detect')"
   ]
  },
  {
   "cell_type": "code",
   "execution_count": null,
   "id": "9cf16065",
   "metadata": {},
   "outputs": [],
   "source": []
  }
 ],
 "metadata": {
  "kernelspec": {
   "display_name": "Python 3 (ipykernel)",
   "language": "python",
   "name": "python3"
  },
  "language_info": {
   "codemirror_mode": {
    "name": "ipython",
    "version": 3
   },
   "file_extension": ".py",
   "mimetype": "text/x-python",
   "name": "python",
   "nbconvert_exporter": "python",
   "pygments_lexer": "ipython3",
   "version": "3.10.7"
  }
 },
 "nbformat": 4,
 "nbformat_minor": 5
}

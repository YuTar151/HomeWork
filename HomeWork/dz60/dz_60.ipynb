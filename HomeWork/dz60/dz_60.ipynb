{
 "cells": [
  {
   "cell_type": "markdown",
   "source": [
    "1. Завантажте зображення та застосуйте до нього фільтр Собеля для виділення вертикальних та горизонтальних границь. Відобразіть результат.\n",
    "2. Реалізуйте фільтр Canny для виділення границь на зображенні. Візьміть зображення з попереднього завдання. Відобразіть результат\n",
    "3. Застосуйте фільтр Робертса для виділення границь на зображенні. Візьміть зображення з попереднього завдання. Відобразіть результат.\n",
    "4. Порівняйте результати фільтрів Собеля, Кенні та Робертса для виділення границь на зображенні. Обгрунтуйте висновки."
   ],
   "metadata": {
    "collapsed": false
   }
  },
  {
   "cell_type": "code",
   "execution_count": 2,
   "outputs": [],
   "source": [
    "import cv2\n",
    "import numpy as np"
   ],
   "metadata": {
    "collapsed": false
   }
  },
  {
   "cell_type": "markdown",
   "source": [
    "Завантажте зображення та застосуйте до нього фільтр Собеля для виділення вертикальних та горизонтальних границь. Відобразіть результат."
   ],
   "metadata": {
    "collapsed": false
   }
  },
  {
   "cell_type": "code",
   "execution_count": 6,
   "outputs": [],
   "source": [
    "img = cv2.imread('460.jpg')\n",
    "gray = cv2.cvtColor(img, cv2.COLOR_BGR2GRAY)\n",
    "kernel_x = np.array([[-1, 0, 1], [-2, 0, 2], [-1, 0, 1]])\n",
    "kernel_y = np.array([[-1, -2, -1], [0, 0, 0], [1, 2, 1]])\n",
    "edges_x = cv2.filter2D(gray, -1, kernel_x)\n",
    "edges_y = cv2.filter2D(gray, -1, kernel_y)\n",
    "sobel = edges_x + edges_y\n",
    "cv2.imshow('Original images', img)\n",
    "cv2.imshow('SOBEL', sobel)\n",
    "cv2.waitKey(0)\n",
    "cv2.destroyAllWindows()"
   ],
   "metadata": {
    "collapsed": false
   }
  },
  {
   "cell_type": "markdown",
   "source": [
    "Реалізуйте фільтр Canny для виділення границь на зображенні. Візьміть зображення з попереднього завдання. Відобразіть результат"
   ],
   "metadata": {
    "collapsed": false
   }
  },
  {
   "cell_type": "code",
   "execution_count": 7,
   "outputs": [],
   "source": [
    "gray = cv2.cvtColor(img, cv2.COLOR_BGR2GRAY)\n",
    "canny = cv2.Canny(gray, 50, 150)\n",
    "cv2.imshow('Original images', img)\n",
    "cv2.imshow('CANNY', canny)\n",
    "cv2.waitKey(0)\n",
    "cv2.destroyAllWindows()"
   ],
   "metadata": {
    "collapsed": false
   }
  },
  {
   "cell_type": "markdown",
   "source": [
    "Застосуйте фільтр Робертса для виділення границь на зображенні. Візьміть зображення з попереднього завдання. Відобразіть результат."
   ],
   "metadata": {
    "collapsed": false
   }
  },
  {
   "cell_type": "code",
   "execution_count": 10,
   "outputs": [],
   "source": [
    "gray = cv2.imread('460.jpg', cv2.IMREAD_GRAYSCALE)\n",
    "\n",
    "kernel_x = np.array([[1, 0], [0, -1]], dtype=np.float32)\n",
    "kernel_y = np.array([[0, 1], [-1, 0]], dtype=np.float32)\n",
    "roberts_x = cv2.filter2D(gray, -1, kernel_x)\n",
    "roberts_y = cv2.filter2D(gray, -1, kernel_y)\n",
    "roberts_edges = cv2.bitwise_or(roberts_x, roberts_y)\n",
    "\n",
    "cv2.imshow('Original Image', img)\n",
    "cv2.imshow('Roberts Edges', roberts_edges)\n",
    "cv2.waitKey(0)\n",
    "cv2.destroyAllWindows()"
   ],
   "metadata": {
    "collapsed": false
   }
  },
  {
   "cell_type": "markdown",
   "source": [
    "Порівняйте результати фільтрів Собеля, Кенні та Робертса для виділення границь на зображенні. Обгрунтуйте висновки."
   ],
   "metadata": {
    "collapsed": false
   }
  },
  {
   "cell_type": "markdown",
   "source": [
    "Фільтр Собеля:\n",
    "Використовує ядра 3x3 або 5x5 для виявлення горизонтальних та вертикальних границь на зображенні.\n",
    "Добре працює на зображеннях з різними рівнями освітлення та шумом.\n",
    "Забезпечує високу точність визначення границь, особливо на великих контрастних змінах.\n",
    "Застосовується в різних варіантах, таких як Собель по горизонталі, Собель по вертикалі, або комбінація двох напрямків.\n",
    "Добре підходить для виявлення границь в горизонтальному та вертикальному напрямках, таких як розпізнавання контурів об'єктів.\n",
    "\n",
    "Фільтр Кенні:\n",
    "Використовує складніші ядра 3x3 для виявлення границь з використанням вагових коефіцієнтів.\n",
    "Забезпечує високу точність визначення границь, зокрема на зображеннях з шумом та змазками.\n",
    "Має більш складні налаштування параметрів, такі як порогові значення для визначення границь.\n",
    "Часто використовується в задачах детекції контурів, виявлення ребер та розпізнавання форм об'єктів.\n",
    "\n",
    "Фільтр Робертса:\n",
    "Використовує прості ядра 2x2 для виявлення діагональних границь на зображенні.\n",
    "Має меншу точність визначення границь в порівнянні зі Собелем та Кенні.\n",
    "Відчутливий до шуму та змазок на зображенні.\n",
    "Використовується в застосунках, де важливі діагональні границі,"
   ],
   "metadata": {
    "collapsed": false
   }
  },
  {
   "cell_type": "code",
   "execution_count": null,
   "outputs": [],
   "source": [],
   "metadata": {
    "collapsed": false
   }
  }
 ],
 "metadata": {
  "kernelspec": {
   "display_name": "Python 3",
   "language": "python",
   "name": "python3"
  },
  "language_info": {
   "codemirror_mode": {
    "name": "ipython",
    "version": 2
   },
   "file_extension": ".py",
   "mimetype": "text/x-python",
   "name": "python",
   "nbconvert_exporter": "python",
   "pygments_lexer": "ipython2",
   "version": "2.7.6"
  }
 },
 "nbformat": 4,
 "nbformat_minor": 0
}

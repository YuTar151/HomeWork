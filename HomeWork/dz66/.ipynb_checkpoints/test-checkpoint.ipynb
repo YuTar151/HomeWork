{
 "cells": [
  {
   "cell_type": "code",
   "execution_count": null,
   "metadata": {
    "pycharm": {
     "is_executing": true
    }
   },
   "outputs": [],
   "source": [
    "import cv2\n",
    "import numpy as np\n",
    "from keras.models import load_model\n",
    "\n",
    "model = load_model(\"./model-009.model\")\n",
    "\n",
    "results = {0: 'without mask', 1: 'mask'}\n",
    "GR_dict = {0: (0, 0, 255), 1: (0, 255, 0)}\n",
    "\n",
    "rect_size = 4\n",
    "cap = cv2.VideoCapture(1)\n",
    "\n",
    "haarcascade = cv2.CascadeClassifier(\n",
    "    'E:\\ML_Projects\\Study\\venv\\Lib\\site-packages\\cv2\\data\\haarcascade_frontalface_default.xml')\n",
    "\n",
    "while True:\n",
    "    # Capture frame-by-frame\n",
    "    ret, frame = cap.read(1)\n",
    "\n",
    "    # If frame is not captured, skip to the next iteration\n",
    "    if not ret:\n",
    "        continue\n",
    "\n",
    "    frame = cv2.flip(frame, 1, 1)\n",
    "\n",
    "    rerect_size = cv2.resize(frame, (frame.shape[1] // rect_size, frame.shape[0] // rect_size))\n",
    "    if rerect_size.shape[0] < 10 or rerect_size.shape[1] < 10:\n",
    "        continue\n",
    "\n",
    "    faces = haarcascade.detectMultiScale(rerect_size)\n",
    "    for f in faces:\n",
    "        (x, y, w, h) = [v * rect_size for v in f]\n",
    "\n",
    "        face_img = frame[y:y + h, x:x + w]\n",
    "        rerect_sized = cv2.resize(face_img, (150, 150))\n",
    "        normalized = rerect_sized / 255.0\n",
    "        reshaped = np.reshape(normalized, (1, 150, 150, 3))\n",
    "        reshaped = np.vstack([reshaped])\n",
    "        result = model.predict(reshaped)\n",
    "\n",
    "        label = np.argmax(result, axis=1)[0]\n",
    "\n",
    "        cv2.rectangle(frame, (x, y), (x + w, y + h), GR_dict[label], 2)\n",
    "        cv2.rectangle(frame, (x, y - 40), (x + w, y), GR_dict[label], -1)\n",
    "        cv2.putText(frame, results[label], (x, y - 10), cv2.FONT_HERSHEY_SIMPLEX, 0.8, (255, 255, 255), 2)\n",
    "\n",
    "    # Display the resulting frame\n",
    "    cv2.imshow('LIVE', frame)\n",
    "\n",
    "    # Exit the loop if 'Esc' key is pressed\n",
    "    key = cv2.waitKey(10)\n",
    "    if key == 27:\n",
    "        break\n",
    "\n",
    "# Release the capture\n",
    "cap.release()\n",
    "\n",
    "# Close all windows\n",
    "cv2.destroyAllWindows()\n"
   ]
  },
  {
   "cell_type": "code",
   "execution_count": null,
   "metadata": {},
   "outputs": [],
   "source": []
  }
 ],
 "metadata": {
  "kernelspec": {
   "display_name": "Python 3 (ipykernel)",
   "language": "python",
   "name": "python3"
  },
  "language_info": {
   "codemirror_mode": {
    "name": "ipython",
    "version": 3
   },
   "file_extension": ".py",
   "mimetype": "text/x-python",
   "name": "python",
   "nbconvert_exporter": "python",
   "pygments_lexer": "ipython3",
   "version": "3.11.2"
  }
 },
 "nbformat": 4,
 "nbformat_minor": 1
}

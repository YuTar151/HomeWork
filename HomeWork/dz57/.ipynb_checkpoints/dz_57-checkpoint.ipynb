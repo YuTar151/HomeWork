{
 "cells": [
  {
   "cell_type": "markdown",
   "metadata": {},
   "source": [
    "Можна використовувати бібліотеку PIL або бібліотеку openCV\n",
    "1. Створіть функцію для зчитування зображення з диску та його відображення на екрані.\n",
    "2. Створіть функцію для збереження зображення на диск.\n",
    "3. Створіть функції для реалізації наступних піксельних операцій:\n",
    "- зміна контрастності (задання коефіцієнту контрастності та яскравості);\n",
    "- зміна яскравості (задання коефіцієнту яскравості);\n",
    "- зміна насиченості (задання коефіцієнту насиченості);\n",
    "- зміна розміру зображення (задання нової ширини та висоти);\n",
    "- обрізання зображення (задання координат початку та кінця обрізання);\n",
    "- поворот зображення на заданий кут (задання кута повороту в градусах)."
   ]
  },
  {
   "cell_type": "code",
   "execution_count": 1,
   "metadata": {},
   "outputs": [],
   "source": [
    "from PIL import Image\n",
    "import cv2"
   ]
  },
  {
   "cell_type": "code",
   "execution_count": 3,
   "metadata": {},
   "outputs": [],
   "source": [
    "# Функція для зчитування зображення з диску та його відображення на екрані\n",
    "img = cv2.imread('IMG18.jpg')\n",
    "def show_image(img):\n",
    "    image = Image.open(img)\n",
    "    image.show()"
   ]
  },
  {
   "cell_type": "code",
   "execution_count": 4,
   "metadata": {},
   "outputs": [],
   "source": [
    "# Функція для збереження зображення на диск\n",
    "def save_image(image, file_path):\n",
    "    image.save(file_path)"
   ]
  },
  {
   "cell_type": "code",
   "execution_count": null,
   "metadata": {},
   "outputs": [],
   "source": [
    "\n",
    "# Приклад використання\n",
    "file_path = \"example.jpg\" # Шлях до зображення на диску\n",
    "\n",
    "# Зчитування та відображення зображення\n",
    "show_image(file_path)\n",
    "\n",
    "# Збереження зображення на диск\n",
    "image = cv2.imread(file_path)\n",
    "save_image(image, \"example_copy.jpg\") # Збереження копії зображення на диск"
   ]
  }
 ],
 "metadata": {
  "kernelspec": {
   "display_name": "Python 3 (ipykernel)",
   "language": "python",
   "name": "python3"
  },
  "language_info": {
   "codemirror_mode": {
    "name": "ipython",
    "version": 3
   },
   "file_extension": ".py",
   "mimetype": "text/x-python",
   "name": "python",
   "nbconvert_exporter": "python",
   "pygments_lexer": "ipython3",
   "version": "3.11.2"
  }
 },
 "nbformat": 4,
 "nbformat_minor": 1
}

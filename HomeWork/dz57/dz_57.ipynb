{
 "cells": [
  {
   "cell_type": "markdown",
   "metadata": {},
   "source": [
    "Можна використовувати бібліотеку PIL або бібліотеку openCV\n",
    "1. Створіть функцію для зчитування зображення з диску та його відображення на екрані.\n",
    "2. Створіть функцію для збереження зображення на диск.\n",
    "3. Створіть функції для реалізації наступних піксельних операцій:\n",
    "- зміна контрастності (задання коефіцієнту контрастності та яскравості);\n",
    "- зміна яскравості (задання коефіцієнту яскравості);\n",
    "- зміна насиченості (задання коефіцієнту насиченості);\n",
    "- зміна розміру зображення (задання нової ширини та висоти);\n",
    "- обрізання зображення (задання координат початку та кінця обрізання);\n",
    "- поворот зображення на заданий кут (задання кута повороту в градусах)."
   ]
  },
  {
   "cell_type": "code",
   "execution_count": 1,
   "metadata": {},
   "outputs": [],
   "source": [
    "from PIL import Image\n",
    "import cv2"
   ]
  },
  {
   "cell_type": "code",
   "execution_count": 3,
   "metadata": {},
   "outputs": [],
   "source": [
    "# Функція для зчитування зображення з диску та його відображення на екрані\n",
    "img = cv2.imread('IMG18.jpg')\n",
    "def show_image(image):\n",
    "    image = Image.fromarray(image)\n",
    "    image.show()\n",
    "\n",
    "show_image(img)"
   ]
  },
  {
   "cell_type": "code",
   "execution_count": 7,
   "metadata": {},
   "outputs": [],
   "source": [
    "# Функція для збереження зображення\n",
    "def save_image(image, file_name):\n",
    "    cv2.imwrite(file_name, image)\n",
    "\n",
    "save_image(img, 'new_img.jpg')"
   ]
  },
  {
   "cell_type": "code",
   "execution_count": null,
   "outputs": [],
   "source": [
    "from PIL import Image\n",
    "\n",
    "# Функція для зміни контрастності та яскравості зображення\n",
    "def change_contrast_brightness(image, contrast, brightness):\n",
    "    # Конвертуємо зображення в режим RGB (якщо воно не RGB)\n",
    "    image = image.convert(\"RGB\")\n",
    "\n",
    "    # Генеруємо LUT (Lookup Table) для зміни контрастності та яскравості\n",
    "    lut = [(i * contrast + brightness) for i in range(256)]\n",
    "\n",
    "    # Застосовуємо LUT до зображення\n",
    "    image = image.point(lut)\n",
    "\n",
    "    return image\n",
    "\n",
    "# Функція для зміни насиченості зображення\n",
    "def change_saturation(image, saturation):\n",
    "    # Конвертуємо зображення в режим HSL\n",
    "    image = image.convert(\"HSV\")\n",
    "\n",
    "    # Отримуємо канали H, S та V\n",
    "    h, s, v = image.split()\n",
    "\n",
    "    # Генеруємо LUT (Lookup Table) для зміни насиченості\n",
    "    lut = [(i * saturation) for i in range(256)]\n",
    "\n",
    "    # Застосовуємо LUT до каналу S\n",
    "    s = s.point(lut)\n",
    "\n",
    "    # Зливаємо канали H, S та V, та конвертуємо зображення назад в режим RGB\n",
    "    image = Image.merge(\"HSV\", (h, s, v)).convert(\"RGB\")\n",
    "\n",
    "    return image\n",
    "\n",
    "# Функція для зміни розміру зображення\n",
    "def change_size(image, width, height):\n",
    "    # Змінюємо розмір зображення\n",
    "    image = image.resize((width, height))\n",
    "\n",
    "    return image\n",
    "\n",
    "# Функція для обрізання зображення\n",
    "def crop_image(image, left, top, right, bottom):\n",
    "    # Обрізаємо зображення\n",
    "    image = image.crop((left, top, right, bottom))\n",
    "\n",
    "    return image\n",
    "\n",
    "# Функція для повороту зображення на заданий кут\n",
    "def rotate_image(image, angle):\n",
    "    # Повертаємо зображення на заданий кут\n",
    "    image = image.rotate(angle)\n",
    "\n",
    "    return image\n"
   ],
   "metadata": {
    "collapsed": false
   }
  }
 ],
 "metadata": {
  "kernelspec": {
   "display_name": "Python 3 (ipykernel)",
   "language": "python",
   "name": "python3"
  },
  "language_info": {
   "codemirror_mode": {
    "name": "ipython",
    "version": 3
   },
   "file_extension": ".py",
   "mimetype": "text/x-python",
   "name": "python",
   "nbconvert_exporter": "python",
   "pygments_lexer": "ipython3",
   "version": "3.11.2"
  }
 },
 "nbformat": 4,
 "nbformat_minor": 1
}

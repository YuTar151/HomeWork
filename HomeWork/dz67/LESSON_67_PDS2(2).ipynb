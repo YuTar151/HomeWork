{
 "cells": [
  {
   "cell_type": "markdown",
   "metadata": {
    "id": "aNg851lVpgM0"
   },
   "source": [
    "# Recipe Objective"
   ]
  },
  {
   "cell_type": "markdown",
   "metadata": {
    "id": "2qNGubFGq12-"
   },
   "source": [
    "## Step 1 - Import library"
   ]
  },
  {
   "cell_type": "code",
   "execution_count": 1,
   "metadata": {
    "id": "l8jd3dsR9xWe"
   },
   "outputs": [],
   "source": [
    "import tensorflow as tf\n",
    "from tensorflow import keras"
   ]
  },
  {
   "cell_type": "markdown",
   "metadata": {
    "id": "8FZ4OsJIq7V9"
   },
   "source": [
    "## Step 2 - Load Dataset"
   ]
  },
  {
   "cell_type": "code",
   "execution_count": 2,
   "metadata": {
    "colab": {
     "base_uri": "https://localhost:8080/"
    },
    "id": "i9FmZx0MnCfL",
    "outputId": "cd02367c-12f7-48e8-a5fb-1845f03c0658"
   },
   "outputs": [
    {
     "name": "stdout",
     "output_type": "stream",
     "text": [
      "Downloading data from https://storage.googleapis.com/tensorflow/tf-keras-datasets/train-labels-idx1-ubyte.gz\n",
      "29515/29515 [==============================] - 0s 1us/step\n",
      "Downloading data from https://storage.googleapis.com/tensorflow/tf-keras-datasets/train-images-idx3-ubyte.gz\n",
      "26421880/26421880 [==============================] - 2s 0us/step\n",
      "Downloading data from https://storage.googleapis.com/tensorflow/tf-keras-datasets/t10k-labels-idx1-ubyte.gz\n",
      "5148/5148 [==============================] - 0s 0s/step\n",
      "Downloading data from https://storage.googleapis.com/tensorflow/tf-keras-datasets/t10k-images-idx3-ubyte.gz\n",
      "4422102/4422102 [==============================] - 0s 0us/step\n"
     ]
    }
   ],
   "source": [
    "(x_train_data, y_train_data), (x_val_data, y_val_data) = keras.datasets.fashion_mnist.load_data()"
   ]
  },
  {
   "cell_type": "markdown",
   "metadata": {
    "id": "7cLij1KVsGdx"
   },
   "source": [
    "## Step 3 - Preprocess and create dataset"
   ]
  },
  {
   "cell_type": "code",
   "execution_count": 3,
   "metadata": {
    "id": "DY1_2ynBnMo4"
   },
   "outputs": [],
   "source": [
    "def preprocessing_function(x_new, y_new):\n",
    "  x_new = tf.cast(x_new, tf.float32) / 255.0\n",
    "  y_new = tf.cast(y_new, tf.int64)\n",
    "\n",
    "  return x_new, y_new\n",
    "\n",
    "def func_creating_dataset(xs_data, ys_data, num_classes=10):\n",
    "  ys_data = tf.one_hot(ys_data, depth=num_classes)\n",
    "  return tf.data.Dataset.from_tensor_slices((xs_data, ys_data)) \\\n",
    "    .map(preprocessing_function) \\\n",
    "    .shuffle(len(ys_data)) \\\n",
    "    .batch(128)"
   ]
  },
  {
   "cell_type": "markdown",
   "metadata": {
    "id": "CZ3nVXF4sUKA"
   },
   "source": [
    "## Step 4 - Create Neural network"
   ]
  },
  {
   "cell_type": "code",
   "execution_count": 4,
   "metadata": {
    "id": "2EoYKcWonvRt"
   },
   "outputs": [],
   "source": [
    "dataset_training = func_creating_dataset(x_train_data, y_train_data)\n",
    "dataset_val = func_creating_dataset(x_val_data, y_val_data)"
   ]
  },
  {
   "cell_type": "markdown",
   "metadata": {
    "id": "cpedn1EOsYeM"
   },
   "source": [
    "## Step 5 - Build the model"
   ]
  },
  {
   "cell_type": "code",
   "execution_count": 5,
   "metadata": {
    "id": "5G2oGfVioA5n"
   },
   "outputs": [],
   "source": [
    "My_model = keras.Sequential([\n",
    "    keras.layers.Reshape(target_shape=(28 * 28,), input_shape=(28, 28)),\n",
    "    keras.layers.Dense(units=256, activation='relu'),\n",
    "    keras.layers.Dense(units=192, activation='relu'),\n",
    "    keras.layers.Dense(units=128, activation='relu'),\n",
    "    keras.layers.Dense(units=10, activation='softmax')\n",
    "])"
   ]
  },
  {
   "cell_type": "markdown",
   "metadata": {
    "id": "CIlk282csd4x"
   },
   "source": [
    "## Step 6 - Train the model"
   ]
  },
  {
   "cell_type": "code",
   "execution_count": 6,
   "metadata": {
    "colab": {
     "base_uri": "https://localhost:8080/"
    },
    "id": "VSMzvETJod-9",
    "outputId": "02729073-2a60-4952-ef75-82af37c8e1d5"
   },
   "outputs": [
    {
     "name": "stdout",
     "output_type": "stream",
     "text": [
      "Epoch 1/10\n"
     ]
    },
    {
     "name": "stderr",
     "output_type": "stream",
     "text": [
      "D:\\MyDoc\\Nextcloud\\_STARTUP_ACADEMY\\jupiter\\lib\\site-packages\\keras\\backend.py:5561: UserWarning: \"`categorical_crossentropy` received `from_logits=True`, but the `output` argument was produced by a Softmax activation and thus does not represent logits. Was this intended?\n",
      "  output, from_logits = _get_logits(\n"
     ]
    },
    {
     "name": "stdout",
     "output_type": "stream",
     "text": [
      "500/500 [==============================] - 8s 6ms/step - loss: 0.5114 - accuracy: 0.8162 - val_loss: 0.4561 - val_accuracy: 0.8477\n",
      "Epoch 2/10\n",
      "500/500 [==============================] - 3s 6ms/step - loss: 0.3573 - accuracy: 0.8690 - val_loss: 0.4404 - val_accuracy: 0.8594\n",
      "Epoch 3/10\n",
      "500/500 [==============================] - 3s 7ms/step - loss: 0.3200 - accuracy: 0.8830 - val_loss: 0.3096 - val_accuracy: 0.8906\n",
      "Epoch 4/10\n",
      "500/500 [==============================] - 3s 6ms/step - loss: 0.2950 - accuracy: 0.8896 - val_loss: 0.3500 - val_accuracy: 0.8711\n",
      "Epoch 5/10\n",
      "500/500 [==============================] - 3s 6ms/step - loss: 0.2757 - accuracy: 0.8977 - val_loss: 0.3537 - val_accuracy: 0.8672\n",
      "Epoch 6/10\n",
      "500/500 [==============================] - 3s 6ms/step - loss: 0.2649 - accuracy: 0.9001 - val_loss: 0.3149 - val_accuracy: 0.8867\n",
      "Epoch 7/10\n",
      "500/500 [==============================] - 3s 6ms/step - loss: 0.2478 - accuracy: 0.9077 - val_loss: 0.3307 - val_accuracy: 0.8945\n",
      "Epoch 8/10\n",
      "500/500 [==============================] - 3s 7ms/step - loss: 0.2446 - accuracy: 0.9065 - val_loss: 0.2855 - val_accuracy: 0.8945\n",
      "Epoch 9/10\n",
      "500/500 [==============================] - 3s 6ms/step - loss: 0.2258 - accuracy: 0.9148 - val_loss: 0.4227 - val_accuracy: 0.8516\n",
      "Epoch 10/10\n",
      "500/500 [==============================] - 3s 6ms/step - loss: 0.2216 - accuracy: 0.9159 - val_loss: 0.4171 - val_accuracy: 0.8633\n"
     ]
    }
   ],
   "source": [
    "My_model.compile(optimizer='adam', \n",
    "              loss=tf.losses.CategoricalCrossentropy(from_logits=True),\n",
    "              metrics=['accuracy'])\n",
    "\n",
    "history = My_model.fit(\n",
    "    dataset_training.repeat(), \n",
    "    epochs=10, \n",
    "    steps_per_epoch=500,\n",
    "    validation_data=dataset_val.repeat(), \n",
    "    validation_steps=2\n",
    ")"
   ]
  },
  {
   "cell_type": "markdown",
   "metadata": {
    "id": "n2L4qOrhsh9Z"
   },
   "source": [
    "## Step 7 - Make predictions"
   ]
  },
  {
   "cell_type": "code",
   "execution_count": 7,
   "metadata": {
    "colab": {
     "base_uri": "https://localhost:8080/"
    },
    "id": "beoU2UGLosTi",
    "outputId": "dc88cd7a-e676-4c6c-df16-566396fbdf60"
   },
   "outputs": [
    {
     "name": "stdout",
     "output_type": "stream",
     "text": [
      "79/79 [==============================] - 0s 2ms/step\n"
     ]
    },
    {
     "data": {
      "text/plain": [
       "array([[4.48842940e-07, 3.69147579e-09, 1.10000514e-07, ...,\n",
       "        3.96877564e-02, 1.42697232e-08, 3.73968272e-04],\n",
       "       [1.46487702e-08, 4.13784944e-11, 2.92826124e-10, ...,\n",
       "        9.99992847e-01, 1.40768952e-08, 1.24889698e-06],\n",
       "       [9.91410837e-02, 7.60410097e-04, 1.12478115e-01, ...,\n",
       "        2.47849152e-06, 3.18466732e-03, 3.89283341e-05],\n",
       "       ...,\n",
       "       [9.89389956e-01, 3.18922821e-09, 7.06557557e-06, ...,\n",
       "        7.05904976e-15, 1.33351428e-08, 4.44628969e-12],\n",
       "       [4.52008990e-08, 1.81517009e-14, 8.64216546e-11, ...,\n",
       "        2.46044518e-10, 1.27584644e-06, 2.21851292e-12],\n",
       "       [8.94017091e-08, 8.47280746e-10, 1.94829673e-11, ...,\n",
       "        3.93812525e-06, 5.04463485e-12, 7.98836887e-01]], dtype=float32)"
      ]
     },
     "execution_count": 7,
     "metadata": {},
     "output_type": "execute_result"
    }
   ],
   "source": [
    "Make_predictions = My_model.predict(dataset_val)\n",
    "Make_predictions"
   ]
  },
  {
   "cell_type": "code",
   "execution_count": null,
   "metadata": {
    "id": "O5ssfjoqs0Xd"
   },
   "outputs": [],
   "source": []
  }
 ],
 "metadata": {
  "colab": {
   "collapsed_sections": [],
   "name": "Tensorflow_Exercise_65.ipynb",
   "provenance": []
  },
  "kernelspec": {
   "display_name": "Python 3 (ipykernel)",
   "language": "python",
   "name": "python3"
  },
  "language_info": {
   "codemirror_mode": {
    "name": "ipython",
    "version": 3
   },
   "file_extension": ".py",
   "mimetype": "text/x-python",
   "name": "python",
   "nbconvert_exporter": "python",
   "pygments_lexer": "ipython3",
   "version": "3.10.7"
  }
 },
 "nbformat": 4,
 "nbformat_minor": 1
}

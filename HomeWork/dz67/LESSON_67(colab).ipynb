{
  "nbformat": 4,
  "nbformat_minor": 0,
  "metadata": {
    "colab": {
      "provenance": []
    },
    "kernelspec": {
      "name": "python3",
      "display_name": "Python 3"
    },
    "language_info": {
      "name": "python"
    },
    "accelerator": "GPU",
    "gpuClass": "standard"
  },
  "cells": [
    {
      "cell_type": "code",
      "execution_count": null,
      "metadata": {
        "id": "HWk07v40l-ff"
      },
      "outputs": [],
      "source": [
        "from tensorflow.keras.datasets import mnist\n",
        "from tensorflow.keras.models import Sequential\n",
        "from tensorflow.keras.layers import Dense\n",
        "from tensorflow.keras.optimizers import Adam\n",
        "from tensorflow.keras import utils\n",
        "from tensorflow.keras.preprocessing import image\n",
        "import numpy as np\n",
        "import pylab\n",
        "from mpl_toolkits.mplot3d import Axes3D\n",
        "\n",
        "import matplotlib.pyplot as plt\n",
        "from PIL import Image\n",
        "\n",
        "%matplotlib inline "
      ]
    },
    {
      "cell_type": "code",
      "source": [
        "(x_train_org, y_train_org), (x_test_org, y_test_org) = mnist.load_data()"
      ],
      "metadata": {
        "colab": {
          "base_uri": "https://localhost:8080/"
        },
        "id": "LWl3BQ-xYt-Q",
        "outputId": "d39ca025-4d54-49a2-ee2f-79a3f1725445"
      },
      "execution_count": null,
      "outputs": [
        {
          "output_type": "stream",
          "name": "stdout",
          "text": [
            "Downloading data from https://storage.googleapis.com/tensorflow/tf-keras-datasets/mnist.npz\n",
            "11490434/11490434 [==============================] - 1s 0us/step\n"
          ]
        }
      ]
    },
    {
      "cell_type": "code",
      "source": [
        "x_train_org"
      ],
      "metadata": {
        "colab": {
          "base_uri": "https://localhost:8080/"
        },
        "id": "OVMa2InmZ18E",
        "outputId": "fd39c1e3-521f-4194-bc25-723724cc8a8a"
      },
      "execution_count": null,
      "outputs": [
        {
          "output_type": "execute_result",
          "data": {
            "text/plain": [
              "array([[[0, 0, 0, ..., 0, 0, 0],\n",
              "        [0, 0, 0, ..., 0, 0, 0],\n",
              "        [0, 0, 0, ..., 0, 0, 0],\n",
              "        ...,\n",
              "        [0, 0, 0, ..., 0, 0, 0],\n",
              "        [0, 0, 0, ..., 0, 0, 0],\n",
              "        [0, 0, 0, ..., 0, 0, 0]],\n",
              "\n",
              "       [[0, 0, 0, ..., 0, 0, 0],\n",
              "        [0, 0, 0, ..., 0, 0, 0],\n",
              "        [0, 0, 0, ..., 0, 0, 0],\n",
              "        ...,\n",
              "        [0, 0, 0, ..., 0, 0, 0],\n",
              "        [0, 0, 0, ..., 0, 0, 0],\n",
              "        [0, 0, 0, ..., 0, 0, 0]],\n",
              "\n",
              "       [[0, 0, 0, ..., 0, 0, 0],\n",
              "        [0, 0, 0, ..., 0, 0, 0],\n",
              "        [0, 0, 0, ..., 0, 0, 0],\n",
              "        ...,\n",
              "        [0, 0, 0, ..., 0, 0, 0],\n",
              "        [0, 0, 0, ..., 0, 0, 0],\n",
              "        [0, 0, 0, ..., 0, 0, 0]],\n",
              "\n",
              "       ...,\n",
              "\n",
              "       [[0, 0, 0, ..., 0, 0, 0],\n",
              "        [0, 0, 0, ..., 0, 0, 0],\n",
              "        [0, 0, 0, ..., 0, 0, 0],\n",
              "        ...,\n",
              "        [0, 0, 0, ..., 0, 0, 0],\n",
              "        [0, 0, 0, ..., 0, 0, 0],\n",
              "        [0, 0, 0, ..., 0, 0, 0]],\n",
              "\n",
              "       [[0, 0, 0, ..., 0, 0, 0],\n",
              "        [0, 0, 0, ..., 0, 0, 0],\n",
              "        [0, 0, 0, ..., 0, 0, 0],\n",
              "        ...,\n",
              "        [0, 0, 0, ..., 0, 0, 0],\n",
              "        [0, 0, 0, ..., 0, 0, 0],\n",
              "        [0, 0, 0, ..., 0, 0, 0]],\n",
              "\n",
              "       [[0, 0, 0, ..., 0, 0, 0],\n",
              "        [0, 0, 0, ..., 0, 0, 0],\n",
              "        [0, 0, 0, ..., 0, 0, 0],\n",
              "        ...,\n",
              "        [0, 0, 0, ..., 0, 0, 0],\n",
              "        [0, 0, 0, ..., 0, 0, 0],\n",
              "        [0, 0, 0, ..., 0, 0, 0]]], dtype=uint8)"
            ]
          },
          "metadata": {},
          "execution_count": 3
        }
      ]
    },
    {
      "cell_type": "code",
      "source": [
        "n = 6\n",
        "plt.imshow(x_test_org[n], cmap='viridis')\n",
        "plt.show()"
      ],
      "metadata": {
        "colab": {
          "base_uri": "https://localhost:8080/",
          "height": 430
        },
        "id": "joW6vpgxZ8DJ",
        "outputId": "76d2d2e0-4485-4f8b-db6e-918625bf4d2a"
      },
      "execution_count": null,
      "outputs": [
        {
          "output_type": "display_data",
          "data": {
            "text/plain": [
              "<Figure size 640x480 with 1 Axes>"
            ],
            "image/png": "[encoded data removed]"
          },
          "metadata": {}
        }
      ]
    },
    {
      "cell_type": "code",
      "source": [
        "x_train = x_train_org.reshape(60000, 784)\n",
        "x_test = x_test_org.reshape(10000, 784)\n",
        "print(x_train_org.shape)\n",
        "print(x_train.shape)"
      ],
      "metadata": {
        "colab": {
          "base_uri": "https://localhost:8080/"
        },
        "id": "AR1jGodkaTAp",
        "outputId": "da8a07e4-5303-4dc9-8bb8-03253ab071cb"
      },
      "execution_count": null,
      "outputs": [
        {
          "output_type": "stream",
          "name": "stdout",
          "text": [
            "(60000, 28, 28)\n",
            "(60000, 784)\n"
          ]
        }
      ]
    },
    {
      "cell_type": "code",
      "source": [
        "x_train = x_train.astype('float32')\n",
        "x_train = x_train / 255\n",
        "x_test = x_test.astype('float32')\n",
        "x_test = x_test / 255"
      ],
      "metadata": {
        "id": "Y82ZUIxHatIh"
      },
      "execution_count": null,
      "outputs": []
    },
    {
      "cell_type": "code",
      "source": [
        "y_train_org[2]"
      ],
      "metadata": {
        "colab": {
          "base_uri": "https://localhost:8080/"
        },
        "id": "N5UecAFebfd6",
        "outputId": "672a4d92-b9ed-4986-8a42-ad6c943f8f5c"
      },
      "execution_count": null,
      "outputs": [
        {
          "output_type": "execute_result",
          "data": {
            "text/plain": [
              "4"
            ]
          },
          "metadata": {},
          "execution_count": 11
        }
      ]
    },
    {
      "cell_type": "code",
      "source": [
        "utils.to_categorical(y_train_org[0], 10)\n",
        "y_train = utils.to_categorical(y_train_org, 10)\n",
        "y_test = utils.to_categorical(y_test_org, 10)"
      ],
      "metadata": {
        "id": "hF2IdqZsbnvz"
      },
      "execution_count": null,
      "outputs": []
    },
    {
      "cell_type": "code",
      "source": [
        "model1 = Sequential()\n",
        "model1.add(Dense(800, input_dim=784, activation=\"relu\"))\n",
        "model1.add(Dense(400, activation=\"relu\"))\n",
        "model1.add(Dense(10, activation=\"softmax\"))"
      ],
      "metadata": {
        "id": "_h078qGmb755"
      },
      "execution_count": null,
      "outputs": []
    },
    {
      "cell_type": "code",
      "source": [
        "model1.compile(loss=\"categorical_crossentropy\", optimizer=\"adam\", metrics=[\"accuracy\"])\n",
        "print(model1.summary())"
      ],
      "metadata": {
        "colab": {
          "base_uri": "https://localhost:8080/"
        },
        "id": "u2eHGqJndi5Z",
        "outputId": "69293d35-699e-4143-9ff3-98d0345c8115"
      },
      "execution_count": null,
      "outputs": [
        {
          "output_type": "stream",
          "name": "stdout",
          "text": [
            "Model: \"sequential\"\n",
            "_________________________________________________________________\n",
            " Layer (type)                Output Shape              Param #   \n",
            "=================================================================\n",
            " dense (Dense)               (None, 800)               628000    \n",
            "                                                                 \n",
            " dense_1 (Dense)             (None, 400)               320400    \n",
            "                                                                 \n",
            " dense_2 (Dense)             (None, 10)                4010      \n",
            "                                                                 \n",
            "=================================================================\n",
            "Total params: 952,410\n",
            "Trainable params: 952,410\n",
            "Non-trainable params: 0\n",
            "_________________________________________________________________\n",
            "None\n"
          ]
        }
      ]
    },
    {
      "cell_type": "code",
      "source": [
        "model1.fit(x_train, y_train, batch_size=128, epochs=15, verbose=1, validation_split=0.2)"
      ],
      "metadata": {
        "colab": {
          "base_uri": "https://localhost:8080/"
        },
        "id": "oKB3jj45d9DS",
        "outputId": "30ebd64d-b277-4947-de4e-e24c0af5aea0"
      },
      "execution_count": null,
      "outputs": [
        {
          "output_type": "stream",
          "name": "stdout",
          "text": [
            "Epoch 1/15\n",
            "375/375 [==============================] - 8s 5ms/step - loss: 0.2303 - accuracy: 0.9330 - val_loss: 0.1150 - val_accuracy: 0.9641\n",
            "Epoch 2/15\n",
            "375/375 [==============================] - 2s 4ms/step - loss: 0.0840 - accuracy: 0.9746 - val_loss: 0.0861 - val_accuracy: 0.9726\n",
            "Epoch 3/15\n",
            "375/375 [==============================] - 2s 4ms/step - loss: 0.0503 - accuracy: 0.9845 - val_loss: 0.0808 - val_accuracy: 0.9763\n",
            "Epoch 4/15\n",
            "375/375 [==============================] - 2s 6ms/step - loss: 0.0357 - accuracy: 0.9882 - val_loss: 0.0955 - val_accuracy: 0.9738\n",
            "Epoch 5/15\n",
            "375/375 [==============================] - 2s 6ms/step - loss: 0.0257 - accuracy: 0.9914 - val_loss: 0.0917 - val_accuracy: 0.9757\n",
            "Epoch 6/15\n",
            "375/375 [==============================] - 2s 4ms/step - loss: 0.0240 - accuracy: 0.9919 - val_loss: 0.0823 - val_accuracy: 0.9782\n",
            "Epoch 7/15\n",
            "375/375 [==============================] - 2s 4ms/step - loss: 0.0204 - accuracy: 0.9932 - val_loss: 0.0912 - val_accuracy: 0.9758\n",
            "Epoch 8/15\n",
            "375/375 [==============================] - 2s 4ms/step - loss: 0.0142 - accuracy: 0.9955 - val_loss: 0.1072 - val_accuracy: 0.9752\n",
            "Epoch 9/15\n",
            "375/375 [==============================] - 2s 5ms/step - loss: 0.0124 - accuracy: 0.9958 - val_loss: 0.1048 - val_accuracy: 0.9773\n",
            "Epoch 10/15\n",
            "375/375 [==============================] - 2s 5ms/step - loss: 0.0144 - accuracy: 0.9952 - val_loss: 0.1184 - val_accuracy: 0.9763\n",
            "Epoch 11/15\n",
            "375/375 [==============================] - 2s 5ms/step - loss: 0.0145 - accuracy: 0.9952 - val_loss: 0.1223 - val_accuracy: 0.9746\n",
            "Epoch 12/15\n",
            "375/375 [==============================] - 2s 6ms/step - loss: 0.0123 - accuracy: 0.9960 - val_loss: 0.1152 - val_accuracy: 0.9766\n",
            "Epoch 13/15\n",
            "375/375 [==============================] - 2s 4ms/step - loss: 0.0068 - accuracy: 0.9978 - val_loss: 0.1024 - val_accuracy: 0.9791\n",
            "Epoch 14/15\n",
            "375/375 [==============================] - 2s 4ms/step - loss: 0.0101 - accuracy: 0.9968 - val_loss: 0.1337 - val_accuracy: 0.9748\n",
            "Epoch 15/15\n",
            "375/375 [==============================] - 2s 4ms/step - loss: 0.0160 - accuracy: 0.9946 - val_loss: 0.0916 - val_accuracy: 0.9812\n"
          ]
        },
        {
          "output_type": "execute_result",
          "data": {
            "text/plain": [
              "<keras.callbacks.History at 0x7fed53d60610>"
            ]
          },
          "metadata": {},
          "execution_count": 15
        }
      ]
    },
    {
      "cell_type": "code",
      "source": [
        "model1.save_weights('model1.h5')\n",
        "model1.load_weights('model1.h5')"
      ],
      "metadata": {
        "id": "0ZaX8zczebZc"
      },
      "execution_count": null,
      "outputs": []
    },
    {
      "cell_type": "code",
      "source": [
        "n_rec = 1944\n",
        "plt.imshow(Image.fromarray(x_test_org[n_rec]).convert('RGBA'))\n",
        "plt.show()"
      ],
      "metadata": {
        "colab": {
          "base_uri": "https://localhost:8080/",
          "height": 430
        },
        "id": "3_F2_Wxue2U7",
        "outputId": "3bac844b-ab20-486a-9364-28892454e897"
      },
      "execution_count": null,
      "outputs": [
        {
          "output_type": "display_data",
          "data": {
            "text/plain": [
              "<Figure size 640x480 with 1 Axes>"
            ],
            "image/png": "[encoded data removed]"
          },
          "metadata": {}
        }
      ]
    },
    {
      "cell_type": "code",
      "source": [
        "x = x_test[n_rec]\n",
        "print(x.shape)"
      ],
      "metadata": {
        "colab": {
          "base_uri": "https://localhost:8080/"
        },
        "id": "ZBNr6UhAfEPT",
        "outputId": "476820e5-4508-4e25-b089-ce68e2853f09"
      },
      "execution_count": null,
      "outputs": [
        {
          "output_type": "stream",
          "name": "stdout",
          "text": [
            "(784,)\n"
          ]
        }
      ]
    },
    {
      "cell_type": "code",
      "source": [
        "x = np.expand_dims(x, axis=0)\n",
        "print(x.shape)"
      ],
      "metadata": {
        "colab": {
          "base_uri": "https://localhost:8080/"
        },
        "id": "SOXhxCYIfKOq",
        "outputId": "abab8db0-22d8-4762-fe16-8a68e0759196"
      },
      "execution_count": null,
      "outputs": [
        {
          "output_type": "stream",
          "name": "stdout",
          "text": [
            "(1, 784)\n"
          ]
        }
      ]
    },
    {
      "cell_type": "code",
      "source": [
        "prediction = model1.predict(x)"
      ],
      "metadata": {
        "colab": {
          "base_uri": "https://localhost:8080/"
        },
        "id": "aDkPFd5CfXfW",
        "outputId": "a32cdd85-80aa-4ea3-d29c-a88beeaca0de"
      },
      "execution_count": null,
      "outputs": [
        {
          "output_type": "stream",
          "name": "stdout",
          "text": [
            "1/1 [==============================] - 0s 22ms/step\n"
          ]
        }
      ]
    },
    {
      "cell_type": "code",
      "source": [
        "print(prediction)"
      ],
      "metadata": {
        "colab": {
          "base_uri": "https://localhost:8080/"
        },
        "id": "EVkGwk7hfgAt",
        "outputId": "88f45a8f-31b5-4de6-daa2-65b2797c3d67"
      },
      "execution_count": null,
      "outputs": [
        {
          "output_type": "stream",
          "name": "stdout",
          "text": [
            "[[1.0000000e+00 7.2270803e-18 3.8533716e-13 2.2811309e-14 3.0591275e-15\n",
            "  8.4542948e-14 1.7076159e-09 3.7638410e-14 2.9443127e-16 1.7309634e-10]]\n"
          ]
        }
      ]
    },
    {
      "cell_type": "code",
      "source": [
        "prediction = np.argmax(prediction)\n",
        "print(prediction)"
      ],
      "metadata": {
        "colab": {
          "base_uri": "https://localhost:8080/"
        },
        "id": "N6Ypa6FnflVr",
        "outputId": "efabf324-b717-4327-cd3c-1abf56696571"
      },
      "execution_count": null,
      "outputs": [
        {
          "output_type": "stream",
          "name": "stdout",
          "text": [
            "0\n"
          ]
        }
      ]
    },
    {
      "cell_type": "code",
      "source": [],
      "metadata": {
        "id": "0AO4iAPhf5cK"
      },
      "execution_count": null,
      "outputs": []
    }
  ]
}
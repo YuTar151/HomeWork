{
 "cells": [
  {
   "cell_type": "code",
   "execution_count": 1,
   "id": "43e3cd67",
   "metadata": {},
   "outputs": [],
   "source": [
    "# pip install tensorflow         # для 2-ї версії\n",
    "# pip install tensorflow==1.15.5 # для 1-ї версії"
   ]
  },
  {
   "cell_type": "code",
   "execution_count": 2,
   "id": "da61dcf3",
   "metadata": {},
   "outputs": [],
   "source": [
    "import tensorflow as tf"
   ]
  },
  {
   "cell_type": "code",
   "execution_count": 3,
   "id": "6300046b",
   "metadata": {},
   "outputs": [
    {
     "name": "stdout",
     "output_type": "stream",
     "text": [
      "tf.Tensor(b'Hello, World!', shape=(), dtype=string)\n"
     ]
    }
   ],
   "source": [
    "hello = tf.constant('Hello, World!')\n",
    "print(hello)"
   ]
  },
  {
   "cell_type": "code",
   "execution_count": 4,
   "id": "b2537be6",
   "metadata": {},
   "outputs": [],
   "source": [
    "import tensorflow.compat.v1 as tfc\n",
    "import numpy as np\n",
    "import matplotlib.pyplot as plt"
   ]
  },
  {
   "cell_type": "code",
   "execution_count": 5,
   "id": "9cd5376e",
   "metadata": {},
   "outputs": [],
   "source": [
    "tfc.disable_eager_execution()"
   ]
  },
  {
   "cell_type": "code",
   "execution_count": 6,
   "id": "daab610b",
   "metadata": {},
   "outputs": [
    {
     "name": "stdout",
     "output_type": "stream",
     "text": [
      "Tensor(\"zeros:0\", shape=(3, 3), dtype=float32)\n"
     ]
    }
   ],
   "source": [
    "zeros_tensor = tf.zeros([3, 3])\n",
    "print(zeros_tensor)"
   ]
  },
  {
   "cell_type": "code",
   "execution_count": 7,
   "id": "63c54373",
   "metadata": {},
   "outputs": [
    {
     "data": {
      "text/plain": [
       "<tf.Tensor 'zeros:0' shape=(3, 3) dtype=float32>"
      ]
     },
     "execution_count": 7,
     "metadata": {},
     "output_type": "execute_result"
    }
   ],
   "source": [
    "zeros_tensor"
   ]
  },
  {
   "cell_type": "code",
   "execution_count": 8,
   "id": "e6099650",
   "metadata": {},
   "outputs": [
    {
     "name": "stdout",
     "output_type": "stream",
     "text": [
      "Tensor(\"add:0\", shape=(2, 2), dtype=float32)\n",
      "Tensor(\"sub:0\", shape=(2, 2), dtype=float32)\n",
      "Tensor(\"mul:0\", shape=(2, 2), dtype=float32)\n",
      "Tensor(\"MatMul:0\", shape=(2, 2), dtype=float32)\n"
     ]
    }
   ],
   "source": [
    "a = tfc.truncated_normal([2, 2])\n",
    "b = tf.fill([2, 2], 0.5)\n",
    "print(a + b)\n",
    "print(a - b)\n",
    "print(a * b)\n",
    "print(tf.matmul(a, b))"
   ]
  },
  {
   "cell_type": "code",
   "execution_count": 9,
   "id": "6db07bc5",
   "metadata": {},
   "outputs": [
    {
     "name": "stdout",
     "output_type": "stream",
     "text": [
      "Tensor(\"Const:0\", shape=(2, 2), dtype=int32)\n"
     ]
    }
   ],
   "source": [
    "basic_tensor = tf.constant([[10,11],[12,13]])\n",
    "print(basic_tensor)"
   ]
  },
  {
   "cell_type": "code",
   "execution_count": 10,
   "id": "bc23b03d",
   "metadata": {},
   "outputs": [
    {
     "name": "stdout",
     "output_type": "stream",
     "text": [
      "Tensor(\"add_1:0\", shape=(2, 2), dtype=int32)\n",
      "Tensor(\"sub_1:0\", shape=(2, 2), dtype=int32)\n",
      "Tensor(\"mul_1:0\", shape=(2, 2), dtype=int32)\n",
      "Tensor(\"truediv:0\", shape=(2, 2), dtype=float64)\n"
     ]
    }
   ],
   "source": [
    "print(basic_tensor + 10)\n",
    "print(basic_tensor - 10)\n",
    "print(basic_tensor * 10)\n",
    "print(basic_tensor / 10)"
   ]
  },
  {
   "cell_type": "code",
   "execution_count": 11,
   "id": "48797be4",
   "metadata": {},
   "outputs": [],
   "source": [
    "tensor_1 = tf.constant([[2,2],[4,4]])\n",
    "tensor_2 = tf.constant([[2,3],[4,5]])"
   ]
  },
  {
   "cell_type": "code",
   "execution_count": 12,
   "id": "053977c5",
   "metadata": {},
   "outputs": [
    {
     "name": "stdout",
     "output_type": "stream",
     "text": [
      "Tensor(\"MatMul_1:0\", shape=(2, 2), dtype=int32)\n"
     ]
    }
   ],
   "source": [
    "print(tf.matmul(tensor_1,tensor_2))"
   ]
  },
  {
   "cell_type": "code",
   "execution_count": 13,
   "id": "a0891386",
   "metadata": {},
   "outputs": [
    {
     "name": "stdout",
     "output_type": "stream",
     "text": [
      "Tensor(\"Reshape:0\", shape=(4, 1), dtype=int32)\n"
     ]
    }
   ],
   "source": [
    "print(tf.reshape(tensor_1,[4,1]))"
   ]
  },
  {
   "cell_type": "code",
   "execution_count": 14,
   "id": "b93292bc",
   "metadata": {},
   "outputs": [
    {
     "name": "stdout",
     "output_type": "stream",
     "text": [
      "Tensor(\"transpose:0\", shape=(2, 2), dtype=int32)\n"
     ]
    }
   ],
   "source": [
    "print(tf.transpose(tensor_1))"
   ]
  },
  {
   "cell_type": "code",
   "execution_count": 15,
   "id": "df67ddb4",
   "metadata": {},
   "outputs": [],
   "source": [
    "# Generating random linear data\n",
    "x = np.linspace(0, 50, 50)\n",
    "y = np.linspace(0, 50, 50)\n",
    " \n",
    "# Adding noise to the random linear data\n",
    "x += np.random.uniform(-4, 4, 50)\n",
    "y += np.random.uniform(-4, 4, 50)"
   ]
  },
  {
   "cell_type": "code",
   "execution_count": 16,
   "id": "fc7752a7",
   "metadata": {},
   "outputs": [
    {
     "data": {
      "image/png": "[encoded data removed]",
      "text/plain": [
       "<Figure size 640x480 with 1 Axes>"
      ]
     },
     "metadata": {},
     "output_type": "display_data"
    }
   ],
   "source": [
    "plt.scatter(x, y)\n",
    "plt.xlabel('x')\n",
    "plt.ylabel('y')\n",
    "plt.title(\"Training Data\")\n",
    "plt.show()"
   ]
  },
  {
   "cell_type": "code",
   "execution_count": 17,
   "id": "d0987816",
   "metadata": {},
   "outputs": [],
   "source": [
    "X = tfc.placeholder(\"float\")\n",
    "Y = tfc.placeholder(\"float\")\n",
    "W = tf.Variable(np.random.randn(), name = \"W\")\n",
    "b = tf.Variable(np.random.randn(), name = \"b\")"
   ]
  },
  {
   "cell_type": "code",
   "execution_count": 18,
   "id": "8a648403",
   "metadata": {},
   "outputs": [],
   "source": [
    "learning_rate = 0.01\n",
    "training_epochs = 1000"
   ]
  },
  {
   "cell_type": "code",
   "execution_count": 19,
   "id": "1d797204",
   "metadata": {},
   "outputs": [],
   "source": [
    "# Hypothesis\n",
    "y_pred = tf.add(tf.multiply(X, W), b)\n",
    " \n",
    "# MSE cost function\n",
    "cost = tf.reduce_sum(tf.pow(y_pred-Y, 2)) / (2 * len(x))\n",
    " \n",
    "# Gradient Descent Optimizer\n",
    "optimizer_gradient = tfc.train.GradientDescentOptimizer(learning_rate).minimize(cost)\n",
    " \n",
    "# Global variables\n",
    "init = tfc.global_variables_initializer()"
   ]
  },
  {
   "cell_type": "code",
   "execution_count": 20,
   "id": "9821e3b0",
   "metadata": {},
   "outputs": [
    {
     "name": "stdout",
     "output_type": "stream",
     "text": [
      "Epoch 50 : cost = 5.4930553 W = 0.9723895 b = -0.678189\n",
      "Epoch 100 : cost = 5.3714423 W = 0.9683847 b = -0.47615108\n",
      "Epoch 150 : cost = 5.2746778 W = 0.9648055 b = -0.29558578\n",
      "Epoch 200 : cost = 5.197721 W = 0.9616067 b = -0.13421074\n",
      "Epoch 250 : cost = 5.1365514 W = 0.9587478 b = 0.010013734\n",
      "Epoch 300 : cost = 5.087957 W = 0.9561928 b = 0.13891044\n",
      "Epoch 350 : cost = 5.049381 W = 0.95390934 b = 0.25410834\n",
      "Epoch 400 : cost = 5.018781 W = 0.95186853 b = 0.35706285\n",
      "Epoch 450 : cost = 4.9945297 W = 0.9500446 b = 0.449077\n",
      "Epoch 500 : cost = 4.975328 W = 0.94841456 b = 0.5313107\n",
      "Epoch 550 : cost = 4.960144 W = 0.9469577 b = 0.60480577\n",
      "Epoch 600 : cost = 4.9481497 W = 0.94565576 b = 0.6704893\n",
      "Epoch 650 : cost = 4.938692 W = 0.9444921 b = 0.7291924\n",
      "Epoch 700 : cost = 4.9312468 W = 0.9434522 b = 0.7816551\n",
      "Epoch 750 : cost = 4.9253936 W = 0.94252276 b = 0.8285443\n",
      "Epoch 800 : cost = 4.9208074 W = 0.94169205 b = 0.87045056\n",
      "Epoch 850 : cost = 4.91722 W = 0.94094974 b = 0.9079014\n",
      "Epoch 900 : cost = 4.9144244 W = 0.9402863 b = 0.9413724\n",
      "Epoch 950 : cost = 4.9122534 W = 0.9396933 b = 0.97128737\n",
      "Epoch 1000 : cost = 4.910574 W = 0.9391633 b = 0.99802184\n"
     ]
    }
   ],
   "source": [
    "# Starting the Tensorflow Session\n",
    "with tfc.Session() as sess:\n",
    "     \n",
    "    # Initializing the Variables\n",
    "    sess.run(init)\n",
    "     \n",
    "    # Iterating through all the epochs\n",
    "    for epoch in range(training_epochs):\n",
    "         \n",
    "        # Feeding each data point into the optimizer using Feed Dictionary\n",
    "        for (_x, _y) in zip(x, y):\n",
    "            sess.run(optimizer_gradient, feed_dict = {X : _x, Y : _y})\n",
    "         \n",
    "        # Displaying the result after every 50 epochs\n",
    "        if (epoch + 1) % 50 == 0:\n",
    "            # Calculating the cost a every epoch\n",
    "            c = sess.run(cost, feed_dict = {X : x, Y : y})\n",
    "            print(\"Epoch\", (epoch + 1), \": cost =\", c, \"W =\", sess.run(W), \"b =\", sess.run(b))\n",
    "     \n",
    "    # Storing necessary values to be used outside the Session\n",
    "    training_cost = sess.run(cost, feed_dict ={X: x, Y: y})\n",
    "    weight = sess.run(W)\n",
    "    bias = sess.run(b)"
   ]
  },
  {
   "cell_type": "code",
   "execution_count": 21,
   "id": "6e30f133",
   "metadata": {},
   "outputs": [
    {
     "name": "stdout",
     "output_type": "stream",
     "text": [
      "Training cost = 4.910574 Weight = 0.9391633 bias = 0.99802184 \n",
      "\n"
     ]
    }
   ],
   "source": [
    "predictions = weight * x + bias\n",
    "print(\"Training cost =\", \n",
    "      training_cost, \n",
    "      \"Weight =\", weight, \n",
    "      \"bias =\", bias, '\\n')"
   ]
  },
  {
   "cell_type": "code",
   "execution_count": 22,
   "id": "3a132925",
   "metadata": {},
   "outputs": [
    {
     "data": {
      "image/png": "[encoded data removed]",
      "text/plain": [
       "<Figure size 640x480 with 1 Axes>"
      ]
     },
     "metadata": {},
     "output_type": "display_data"
    }
   ],
   "source": [
    "plt.plot(x, y, 'ro', label ='Original data')\n",
    "plt.plot(x, predictions, label ='Fitted line')\n",
    "plt.title('Linear Regression Result')\n",
    "plt.legend()\n",
    "plt.show()"
   ]
  },
  {
   "cell_type": "markdown",
   "id": "67207876",
   "metadata": {},
   "source": [
    "___"
   ]
  }
 ],
 "metadata": {
  "kernelspec": {
   "display_name": "Python 3 (ipykernel)",
   "language": "python",
   "name": "python3"
  },
  "language_info": {
   "codemirror_mode": {
    "name": "ipython",
    "version": 3
   },
   "file_extension": ".py",
   "mimetype": "text/x-python",
   "name": "python",
   "nbconvert_exporter": "python",
   "pygments_lexer": "ipython3",
   "version": "3.10.7"
  }
 },
 "nbformat": 4,
 "nbformat_minor": 5
}
